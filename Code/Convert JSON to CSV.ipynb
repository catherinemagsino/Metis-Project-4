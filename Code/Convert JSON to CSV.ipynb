{
 "cells": [
  {
   "cell_type": "code",
   "execution_count": 6,
   "metadata": {},
   "outputs": [],
   "source": [
    "import json,csv\n",
    "\n",
    "headers=True\n",
    "filein='review.json'\n",
    "fileout='review.csv'\n",
    "with open(filein, encoding=\"cp866\") as jsonf, open(fileout, \"w\") as csvf:\n",
    "    for line in jsonf:\n",
    "        data = json.loads(line)\n",
    "        #remove the review text\n",
    "        #data.pop('text')\n",
    "        #print(data)\n",
    "        if headers:\n",
    "            keys=[]\n",
    "            for k, v in data.items():\n",
    "                keys.append(k)\n",
    "            #print(keys)\n",
    "            writer = csv.DictWriter(csvf, fieldnames=keys)\n",
    "            writer.writeheader()\n",
    "            headers = False\n",
    "        writer.writerow(data)"
   ]
  },
  {
   "cell_type": "code",
   "execution_count": 7,
   "metadata": {},
   "outputs": [],
   "source": [
    "headers=True\n",
    "filein='business.json'\n",
    "fileout='business.csv'\n",
    "with open(filein, encoding=\"cp866\") as jsonf, open(fileout, \"w\") as csvf:\n",
    "    for line in jsonf:\n",
    "        data = json.loads(line)\n",
    "        #remove the review text\n",
    "        #data.pop('text')\n",
    "        #print(data)\n",
    "        if headers:\n",
    "            keys=[]\n",
    "            for k, v in data.items():\n",
    "                keys.append(k)\n",
    "            #print(keys)\n",
    "            writer = csv.DictWriter(csvf, fieldnames=keys)\n",
    "            writer.writeheader()\n",
    "            headers = False\n",
    "        writer.writerow(data)"
   ]
  },
  {
   "cell_type": "code",
   "execution_count": null,
   "metadata": {},
   "outputs": [],
   "source": []
  }
 ],
 "metadata": {
  "kernelspec": {
   "display_name": "Python [conda env:metis] *",
   "language": "python",
   "name": "conda-env-metis-py"
  },
  "language_info": {
   "codemirror_mode": {
    "name": "ipython",
    "version": 3
   },
   "file_extension": ".py",
   "mimetype": "text/x-python",
   "name": "python",
   "nbconvert_exporter": "python",
   "pygments_lexer": "ipython3",
   "version": "3.7.3"
  }
 },
 "nbformat": 4,
 "nbformat_minor": 2
}
